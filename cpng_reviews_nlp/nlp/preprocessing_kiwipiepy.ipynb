{
 "cells": [
  {
   "cell_type": "markdown",
   "source": [
    "For Test"
   ],
   "metadata": {
    "collapsed": false,
    "pycharm": {
     "name": "#%% md\n"
    }
   }
  },
  {
   "cell_type": "code",
   "execution_count": null,
   "outputs": [],
   "source": [
    "#kiwi로 띄어쓰기 전처리 필요.\n",
    "\n",
    "from kiwipiepy import Kiwi\n",
    "kiwi = Kiwi()\n",
    "\n",
    "#형태소 단위 Tokenize\n",
    "kiwi.tokenize(\"안녕하세요 형태소 분석기 키위입니다.\")\n",
    "\n",
    "#이어진 문장 형식을 쪼갬\n",
    "kiwi.split_into_sents(\"여러 문장으로 구성된 텍스트네 이걸 분리해줘\")\n",
    "\n",
    "#띄어쓰기 교정...!\n",
    "kiwi.space(\"띄어쓰기없이작성된텍스트네이걸교정해줘\")\n",
    "\n",
    "#Tokenize된 문장을 다시 합치기(Idea..?)\n",
    "tokens = kiwi.tokenize(\"쿠팡은너무일을못하는데?\")\n",
    "kiwi.join(tokens)\n",
    "\n",
    "#soynlp.normalizer로 반복되는 문자 줄이기\n",
    "\n",
    "from soynlp.normalizer import *\n",
    "\n",
    "#repeat_normalize는 반복되는 단어 자모를 없앰.\n",
    "print(repeat_normalize('쿠팡ㅋㅋㅋㅋㅋㅋㅋㅋㅋ너무무무무무무 못하는걸?', num_repeats=2))\n",
    "\n",
    "#normalize는 한글만 남기고 다 없앰\n",
    "print(normalize('Lotte쿠팡 배송 너무%%%%못하는데 ㅋㅋㅋㅋㅋ??~!!'))\n",
    "\n",
    "# 띄어쓰기 전처리된 데이터를 soynlp를 이용해 Tokenization 및 단어 빈도 분석\n",
    "\n",
    "import sys\n",
    "sys.path.insert(0, 'C:/Users/SeaTurtle/Desktop/workspace/learn/ramyeon_reviews.json')\n",
    "from soynlp.noun import LRNounExtractor\n",
    "\n",
    "noun_extractor = LRNounExtractor(\n",
    "    max_left_length=10,\n",
    "    max_right_length=7,\n",
    "    predictor_fnames=None,\n",
    "    verbose=True\n",
    ")\n",
    "\n",
    "from soynlp.utils import DoublespaceLineCorpus\n",
    "\n",
    "corpus_fname = 'C:/Users/SeaTurtle/Desktop/workspace/learn/ramyeon_reviews.json'\n",
    "sentences = DoublespaceLineCorpus(corpus_fname, iter_sent=True)\n",
    "len(sentences)\n",
    "\n",
    "nouns = noun_extractor.train_extract(\n",
    "    sentences,\n",
    "    min_noun_score=0.3,\n",
    "    min_noun_frequency=20\n",
    ")\n",
    "\n",
    "\n",
    "# L-R NounExtractor로 빈도수 및 명사점수 뽑아내기 (n 어떻게 없애는지,,,)\n",
    "\n",
    "import sys\n",
    "sys.path.insert(0, 'C:/Users/SeaTurtle/Desktop/workspace/learn/ramyeon_reviews.json')\n",
    "from soynlp.noun import LRNounExtractor\n",
    "\n",
    "noun_extractor = LRNounExtractor(\n",
    "    max_left_length=10,\n",
    "    max_right_length=7,\n",
    "    predictor_fnames=None,\n",
    "    verbose=True\n",
    ")\n",
    "\n",
    "from soynlp.utils import DoublespaceLineCorpus\n",
    "\n",
    "corpus_fname = 'C:/Users/SeaTurtle/Desktop/workspace/learn/ramyeon_reviews.json'\n",
    "sentences = DoublespaceLineCorpus(corpus_fname, iter_sent=True)\n",
    "len(sentences)\n",
    "\n",
    "nouns = noun_extractor.train_extract(\n",
    "    sentences,\n",
    "    min_noun_score=0.3,\n",
    "    min_noun_frequency=20\n",
    ")\n",
    "\n",
    "#빈도수x명사점수 기준으로 상위 100개 단어\n",
    "top100 = sorted(nouns.items(),\n",
    "    key=lambda x:-x[1].frequency * x[1].score)[:100]\n",
    "\n",
    "for i, (word, score) in enumerate(top100):\n",
    "    if i % 5 == 0:\n",
    "        print()\n",
    "    print('%6s (%.2f)' % (word, score.score), end='')\n",
    "\n",
    "# 분석된 단어 빈도를 matplotlib으로 시각화하기\n"
   ],
   "metadata": {
    "collapsed": false,
    "pycharm": {
     "name": "#%%\n"
    }
   }
  }
 ],
 "metadata": {
  "kernelspec": {
   "display_name": "Python 3",
   "language": "python",
   "name": "python3"
  },
  "language_info": {
   "codemirror_mode": {
    "name": "ipython",
    "version": 2
   },
   "file_extension": ".py",
   "mimetype": "text/x-python",
   "name": "python",
   "nbconvert_exporter": "python",
   "pygments_lexer": "ipython2",
   "version": "2.7.6"
  }
 },
 "nbformat": 4,
 "nbformat_minor": 0
}